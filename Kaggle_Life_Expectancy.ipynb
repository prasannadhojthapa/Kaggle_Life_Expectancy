{
 "cells": [
  {
   "cell_type": "code",
   "execution_count": 48,
   "id": "39b06882",
   "metadata": {},
   "outputs": [
    {
     "data": {
      "text/html": [
       "<div>\n",
       "<style scoped>\n",
       "    .dataframe tbody tr th:only-of-type {\n",
       "        vertical-align: middle;\n",
       "    }\n",
       "\n",
       "    .dataframe tbody tr th {\n",
       "        vertical-align: top;\n",
       "    }\n",
       "\n",
       "    .dataframe thead th {\n",
       "        text-align: right;\n",
       "    }\n",
       "</style>\n",
       "<table border=\"1\" class=\"dataframe\">\n",
       "  <thead>\n",
       "    <tr style=\"text-align: right;\">\n",
       "      <th></th>\n",
       "      <th>Rank</th>\n",
       "      <th>Country</th>\n",
       "      <th>Overall Life</th>\n",
       "      <th>Male Life</th>\n",
       "      <th>Female Life</th>\n",
       "      <th>Continent</th>\n",
       "    </tr>\n",
       "  </thead>\n",
       "  <tbody>\n",
       "    <tr>\n",
       "      <th>0</th>\n",
       "      <td>1</td>\n",
       "      <td>Monaco</td>\n",
       "      <td>89.5</td>\n",
       "      <td>85.6</td>\n",
       "      <td>93.5</td>\n",
       "      <td>Europe</td>\n",
       "    </tr>\n",
       "    <tr>\n",
       "      <th>1</th>\n",
       "      <td>2</td>\n",
       "      <td>Japan</td>\n",
       "      <td>85.0</td>\n",
       "      <td>81.7</td>\n",
       "      <td>88.5</td>\n",
       "      <td>Asia</td>\n",
       "    </tr>\n",
       "    <tr>\n",
       "      <th>2</th>\n",
       "      <td>3</td>\n",
       "      <td>Singapore</td>\n",
       "      <td>85.0</td>\n",
       "      <td>82.3</td>\n",
       "      <td>87.8</td>\n",
       "      <td>Asia</td>\n",
       "    </tr>\n",
       "    <tr>\n",
       "      <th>3</th>\n",
       "      <td>4</td>\n",
       "      <td>Macau; China</td>\n",
       "      <td>84.5</td>\n",
       "      <td>81.6</td>\n",
       "      <td>87.6</td>\n",
       "      <td>Asia</td>\n",
       "    </tr>\n",
       "    <tr>\n",
       "      <th>4</th>\n",
       "      <td>5</td>\n",
       "      <td>San Marino</td>\n",
       "      <td>83.3</td>\n",
       "      <td>80.7</td>\n",
       "      <td>86.1</td>\n",
       "      <td>Europe</td>\n",
       "    </tr>\n",
       "  </tbody>\n",
       "</table>\n",
       "</div>"
      ],
      "text/plain": [
       "   Rank       Country  Overall Life  Male Life  Female Life Continent\n",
       "0     1        Monaco          89.5       85.6         93.5    Europe\n",
       "1     2         Japan          85.0       81.7         88.5      Asia\n",
       "2     3     Singapore          85.0       82.3         87.8      Asia\n",
       "3     4  Macau; China          84.5       81.6         87.6      Asia\n",
       "4     5    San Marino          83.3       80.7         86.1    Europe"
      ]
     },
     "metadata": {},
     "output_type": "display_data"
    }
   ],
   "source": [
    "import pandas as pd\n",
    "import numpy as np\n",
    "\n",
    "from sklearn.model_selection import train_test_split\n",
    "\n",
    "# The file has no headers naming the columns, so we pass header=None\n",
    "# and provide the column names explicitly in \"names\"\n",
    "df = pd.read_csv(\n",
    "    \"C:\\\\Users\\\\prasa\\\\Downloads\\\\Kaggle Files\\\\Kaggle CSV Files\\\\Life_expectancy_dataset.csv\", encoding='ISO-8859-1' )\n",
    "# IPython.display allows nice output formatting within the Jupyter notebook\n",
    "display(df.head())\n"
   ]
  },
  {
   "cell_type": "code",
   "execution_count": 49,
   "id": "ba311e5c",
   "metadata": {},
   "outputs": [],
   "source": [
    "#RUN ONLY ONCE:\n",
    "\n",
    "X = df\n",
    "y = df.pop('Continent')"
   ]
  },
  {
   "cell_type": "code",
   "execution_count": 50,
   "id": "d7d60aba",
   "metadata": {
    "scrolled": true
   },
   "outputs": [
    {
     "name": "stdout",
     "output_type": "stream",
     "text": [
      "(223, 5)\n",
      "(223,)\n",
      "Africa           55\n",
      "Europe           51\n",
      "Asia             49\n",
      "North America    34\n",
      "Oceania          20\n",
      "South America    14\n",
      "Name: Continent, dtype: int64\n"
     ]
    }
   ],
   "source": [
    "print(X.shape)\n",
    "print(y.shape)\n",
    "\n",
    "print(y.value_counts())"
   ]
  },
  {
   "cell_type": "code",
   "execution_count": 51,
   "id": "6c8ece2d",
   "metadata": {},
   "outputs": [
    {
     "name": "stderr",
     "output_type": "stream",
     "text": [
      "C:\\Users\\prasa\\AppData\\Local\\Temp\\ipykernel_8640\\986555380.py:3: SettingWithCopyWarning: \n",
      "A value is trying to be set on a copy of a slice from a DataFrame\n",
      "\n",
      "See the caveats in the documentation: https://pandas.pydata.org/pandas-docs/stable/user_guide/indexing.html#returning-a-view-versus-a-copy\n",
      "  y[i] = 0\n",
      "C:\\Users\\prasa\\AppData\\Local\\Temp\\ipykernel_8640\\986555380.py:5: SettingWithCopyWarning: \n",
      "A value is trying to be set on a copy of a slice from a DataFrame\n",
      "\n",
      "See the caveats in the documentation: https://pandas.pydata.org/pandas-docs/stable/user_guide/indexing.html#returning-a-view-versus-a-copy\n",
      "  y[i] = 1\n",
      "C:\\Users\\prasa\\AppData\\Local\\Temp\\ipykernel_8640\\986555380.py:11: SettingWithCopyWarning: \n",
      "A value is trying to be set on a copy of a slice from a DataFrame\n",
      "\n",
      "See the caveats in the documentation: https://pandas.pydata.org/pandas-docs/stable/user_guide/indexing.html#returning-a-view-versus-a-copy\n",
      "  y[i] = 4\n",
      "C:\\Users\\prasa\\AppData\\Local\\Temp\\ipykernel_8640\\986555380.py:7: SettingWithCopyWarning: \n",
      "A value is trying to be set on a copy of a slice from a DataFrame\n",
      "\n",
      "See the caveats in the documentation: https://pandas.pydata.org/pandas-docs/stable/user_guide/indexing.html#returning-a-view-versus-a-copy\n",
      "  y[i] = 2\n",
      "C:\\Users\\prasa\\AppData\\Local\\Temp\\ipykernel_8640\\986555380.py:9: SettingWithCopyWarning: \n",
      "A value is trying to be set on a copy of a slice from a DataFrame\n",
      "\n",
      "See the caveats in the documentation: https://pandas.pydata.org/pandas-docs/stable/user_guide/indexing.html#returning-a-view-versus-a-copy\n",
      "  y[i] = 3\n",
      "C:\\Users\\prasa\\AppData\\Local\\Temp\\ipykernel_8640\\986555380.py:13: SettingWithCopyWarning: \n",
      "A value is trying to be set on a copy of a slice from a DataFrame\n",
      "\n",
      "See the caveats in the documentation: https://pandas.pydata.org/pandas-docs/stable/user_guide/indexing.html#returning-a-view-versus-a-copy\n",
      "  y[i] = 5\n"
     ]
    }
   ],
   "source": [
    "for i in range(len(y)):\n",
    "    if y[i] == 'Europe':\n",
    "        y[i] = 0\n",
    "    elif y[i] =='Asia':\n",
    "        y[i] = 1\n",
    "    elif y[i] =='North America':\n",
    "        y[i] = 2\n",
    "    elif y[i] =='Africa':\n",
    "        y[i] = 3\n",
    "    elif y[i] =='Oceania':\n",
    "        y[i] = 4\n",
    "    elif y[i] =='South America':\n",
    "        y[i] = 5\n",
    "    else:\n",
    "        pass\n"
   ]
  },
  {
   "cell_type": "code",
   "execution_count": 93,
   "id": "a6014de5",
   "metadata": {},
   "outputs": [],
   "source": [
    "# Poping out the country column as it is a string and can later be linked\n",
    "# with its respective Ranks. \n",
    "X = df.drop(['Country','Rank','Overall Life'],axis=1)\n",
    "y = y.astype(int)"
   ]
  },
  {
   "cell_type": "code",
   "execution_count": 94,
   "id": "b91e6d62",
   "metadata": {},
   "outputs": [
    {
     "name": "stdout",
     "output_type": "stream",
     "text": [
      "     Male Life  Female Life\n",
      "0         85.6         93.5\n",
      "1         81.7         88.5\n",
      "2         82.3         87.8\n",
      "3         81.6         87.6\n",
      "4         80.7         86.1\n",
      "..         ...          ...\n",
      "218       51.6         52.5\n",
      "219       52.2         51.0\n",
      "220       49.9         52.7\n",
      "221       48.6         52.7\n",
      "222       49.0         51.3\n",
      "\n",
      "[223 rows x 2 columns]\n"
     ]
    }
   ],
   "source": [
    "print(X)"
   ]
  },
  {
   "cell_type": "markdown",
   "id": "58abfe0d",
   "metadata": {},
   "source": [
    "#### Using the Linear models for multiclass classification:"
   ]
  },
  {
   "cell_type": "code",
   "execution_count": 95,
   "id": "6d991fbf",
   "metadata": {},
   "outputs": [
    {
     "name": "stdout",
     "output_type": "stream",
     "text": [
      "Index(['Male Life', 'Female Life'], dtype='object')\n"
     ]
    }
   ],
   "source": [
    "print(X.columns)\n"
   ]
  },
  {
   "cell_type": "code",
   "execution_count": 96,
   "id": "13d4f0bb",
   "metadata": {},
   "outputs": [],
   "source": [
    "#X = X.head(10)\n",
    "X_train, X_test, y_train, y_test= train_test_split(X, y, test_size= 0.20, random_state=42)  \n"
   ]
  },
  {
   "cell_type": "code",
   "execution_count": 97,
   "id": "e6d3cbf2",
   "metadata": {},
   "outputs": [],
   "source": [
    "from sklearn.preprocessing import StandardScaler\n",
    "\n",
    "#Using the standard scaler to scale the features for preprocessing:\n",
    "#When using the standard scaler you do not need to manually scale the model.\n",
    "scaler = StandardScaler()\n",
    "scale = scaler.fit(X_train)\n",
    "X_train = scale.transform(X_train)\n",
    "X_test = scale.transform(X_test)"
   ]
  },
  {
   "cell_type": "code",
   "execution_count": 98,
   "id": "9f7532f2",
   "metadata": {},
   "outputs": [],
   "source": [
    "#Logistic Regression model:\n",
    "from sklearn.linear_model import LogisticRegression\n",
    "\n",
    "model = LogisticRegression()\n",
    "model.fit(X_train,y_train)\n",
    "y_pred = model.predict(X_test)\n"
   ]
  },
  {
   "cell_type": "code",
   "execution_count": 99,
   "id": "03a5915b",
   "metadata": {},
   "outputs": [
    {
     "data": {
      "text/plain": [
       "0.4444444444444444"
      ]
     },
     "execution_count": 99,
     "metadata": {},
     "output_type": "execute_result"
    }
   ],
   "source": [
    "from sklearn.metrics import accuracy_score\n",
    "\n",
    "score = accuracy_score(y_test, y_pred)\n",
    "score"
   ]
  },
  {
   "cell_type": "code",
   "execution_count": 100,
   "id": "788fda77",
   "metadata": {},
   "outputs": [
    {
     "data": {
      "text/plain": [
       "array([[8, 7, 0, 0, 0, 0],\n",
       "       [0, 4, 0, 5, 0, 0],\n",
       "       [3, 5, 0, 1, 0, 0],\n",
       "       [0, 0, 0, 8, 0, 0],\n",
       "       [0, 1, 0, 1, 0, 0],\n",
       "       [0, 1, 0, 1, 0, 0]], dtype=int64)"
      ]
     },
     "execution_count": 100,
     "metadata": {},
     "output_type": "execute_result"
    }
   ],
   "source": [
    "from sklearn.metrics import confusion_matrix\n",
    "\n",
    "confusion_matrix(y_test,y_pred)"
   ]
  },
  {
   "cell_type": "code",
   "execution_count": 101,
   "id": "b460cb11",
   "metadata": {},
   "outputs": [
    {
     "data": {
      "text/plain": [
       "array([4, 5, 2, 0, 1, 3])"
      ]
     },
     "execution_count": 101,
     "metadata": {},
     "output_type": "execute_result"
    }
   ],
   "source": [
    "y_train.unique()"
   ]
  },
  {
   "cell_type": "code",
   "execution_count": 102,
   "id": "54b34903",
   "metadata": {},
   "outputs": [
    {
     "name": "stdout",
     "output_type": "stream",
     "text": [
      "[0 1 2 3 4 5]\n"
     ]
    }
   ],
   "source": [
    "# Getting dataframe labels\n",
    "\n",
    "from sklearn.utils.multiclass import unique_labels\n",
    "\n",
    "print(unique_labels(y_test))\n",
    "\n",
    "#This shows the y_train.unique(), but in accending order.\n"
   ]
  },
  {
   "cell_type": "code",
   "execution_count": 103,
   "id": "4acb0822",
   "metadata": {},
   "outputs": [],
   "source": [
    "#Now, showing the confusion matrix with its proper labels in table format:\n",
    "\n",
    "def plot(y_true, y_pred):\n",
    "    labels = unique_labels(y_test)\n",
    "    columns = [f'Predicted {label}' for label in labels]\n",
    "    index = [f'Actual {label}' for label in labels]\n",
    "    table = pd.DataFrame(confusion_matrix(y_true,y_pred), columns=columns, index=index)\n",
    "\n",
    "    return table"
   ]
  },
  {
   "cell_type": "code",
   "execution_count": 104,
   "id": "22fc70ff",
   "metadata": {},
   "outputs": [
    {
     "data": {
      "text/html": [
       "<div>\n",
       "<style scoped>\n",
       "    .dataframe tbody tr th:only-of-type {\n",
       "        vertical-align: middle;\n",
       "    }\n",
       "\n",
       "    .dataframe tbody tr th {\n",
       "        vertical-align: top;\n",
       "    }\n",
       "\n",
       "    .dataframe thead th {\n",
       "        text-align: right;\n",
       "    }\n",
       "</style>\n",
       "<table border=\"1\" class=\"dataframe\">\n",
       "  <thead>\n",
       "    <tr style=\"text-align: right;\">\n",
       "      <th></th>\n",
       "      <th>Predicted 0</th>\n",
       "      <th>Predicted 1</th>\n",
       "      <th>Predicted 2</th>\n",
       "      <th>Predicted 3</th>\n",
       "      <th>Predicted 4</th>\n",
       "      <th>Predicted 5</th>\n",
       "    </tr>\n",
       "  </thead>\n",
       "  <tbody>\n",
       "    <tr>\n",
       "      <th>Actual 0</th>\n",
       "      <td>8</td>\n",
       "      <td>7</td>\n",
       "      <td>0</td>\n",
       "      <td>0</td>\n",
       "      <td>0</td>\n",
       "      <td>0</td>\n",
       "    </tr>\n",
       "    <tr>\n",
       "      <th>Actual 1</th>\n",
       "      <td>0</td>\n",
       "      <td>4</td>\n",
       "      <td>0</td>\n",
       "      <td>5</td>\n",
       "      <td>0</td>\n",
       "      <td>0</td>\n",
       "    </tr>\n",
       "    <tr>\n",
       "      <th>Actual 2</th>\n",
       "      <td>3</td>\n",
       "      <td>5</td>\n",
       "      <td>0</td>\n",
       "      <td>1</td>\n",
       "      <td>0</td>\n",
       "      <td>0</td>\n",
       "    </tr>\n",
       "    <tr>\n",
       "      <th>Actual 3</th>\n",
       "      <td>0</td>\n",
       "      <td>0</td>\n",
       "      <td>0</td>\n",
       "      <td>8</td>\n",
       "      <td>0</td>\n",
       "      <td>0</td>\n",
       "    </tr>\n",
       "    <tr>\n",
       "      <th>Actual 4</th>\n",
       "      <td>0</td>\n",
       "      <td>1</td>\n",
       "      <td>0</td>\n",
       "      <td>1</td>\n",
       "      <td>0</td>\n",
       "      <td>0</td>\n",
       "    </tr>\n",
       "    <tr>\n",
       "      <th>Actual 5</th>\n",
       "      <td>0</td>\n",
       "      <td>1</td>\n",
       "      <td>0</td>\n",
       "      <td>1</td>\n",
       "      <td>0</td>\n",
       "      <td>0</td>\n",
       "    </tr>\n",
       "  </tbody>\n",
       "</table>\n",
       "</div>"
      ],
      "text/plain": [
       "          Predicted 0  Predicted 1  Predicted 2  Predicted 3  Predicted 4  \\\n",
       "Actual 0            8            7            0            0            0   \n",
       "Actual 1            0            4            0            5            0   \n",
       "Actual 2            3            5            0            1            0   \n",
       "Actual 3            0            0            0            8            0   \n",
       "Actual 4            0            1            0            1            0   \n",
       "Actual 5            0            1            0            1            0   \n",
       "\n",
       "          Predicted 5  \n",
       "Actual 0            0  \n",
       "Actual 1            0  \n",
       "Actual 2            0  \n",
       "Actual 3            0  \n",
       "Actual 4            0  \n",
       "Actual 5            0  "
      ]
     },
     "execution_count": 104,
     "metadata": {},
     "output_type": "execute_result"
    }
   ],
   "source": [
    "plot(y_test, y_pred)"
   ]
  },
  {
   "cell_type": "code",
   "execution_count": 105,
   "id": "e932363a",
   "metadata": {},
   "outputs": [],
   "source": [
    "#Now for the heat map for the confusion matrix:\n",
    "\n",
    "import seaborn as sns\n",
    "\n",
    "def plot_heat(y_true, y_pred):\n",
    "    labels = unique_labels(y_test)\n",
    "    columns = [f'Predicted {label}' for label in labels]\n",
    "    index = [f'Actual {label}' for label in labels]\n",
    "    table = pd.DataFrame(confusion_matrix(y_true,y_pred), columns=columns, index=index)\n",
    "\n",
    "    return sns.heatmap(table, annot=True, fmt='d', cmap='viridis')"
   ]
  },
  {
   "cell_type": "code",
   "execution_count": 106,
   "id": "bde84d90",
   "metadata": {},
   "outputs": [
    {
     "data": {
      "text/plain": [
       "<AxesSubplot:>"
      ]
     },
     "execution_count": 106,
     "metadata": {},
     "output_type": "execute_result"
    },
    {
     "data": {
      "image/png": "[encoded data removed]",
      "text/plain": [
       "<Figure size 640x480 with 2 Axes>"
      ]
     },
     "metadata": {},
     "output_type": "display_data"
    }
   ],
   "source": [
    "plot_heat(y_test, y_pred)"
   ]
  },
  {
   "cell_type": "markdown",
   "id": "99ddc204",
   "metadata": {},
   "source": [
    "#### Analyzing Confusion matrix"
   ]
  },
  {
   "cell_type": "code",
   "execution_count": 107,
   "id": "624cc1c2",
   "metadata": {},
   "outputs": [
    {
     "name": "stdout",
     "output_type": "stream",
     "text": [
      "              precision    recall  f1-score   support\n",
      "\n",
      "           0       0.73      0.53      0.62        15\n",
      "           1       0.22      0.44      0.30         9\n",
      "           2       0.00      0.00      0.00         9\n",
      "           3       0.50      1.00      0.67         8\n",
      "           4       0.00      0.00      0.00         2\n",
      "           5       0.00      0.00      0.00         2\n",
      "\n",
      "    accuracy                           0.44        45\n",
      "   macro avg       0.24      0.33      0.26        45\n",
      "weighted avg       0.38      0.44      0.38        45\n",
      "\n"
     ]
    },
    {
     "name": "stderr",
     "output_type": "stream",
     "text": [
      "C:\\Users\\prasa\\anaconda3\\lib\\site-packages\\sklearn\\metrics\\_classification.py:1318: UndefinedMetricWarning: Precision and F-score are ill-defined and being set to 0.0 in labels with no predicted samples. Use `zero_division` parameter to control this behavior.\n",
      "  _warn_prf(average, modifier, msg_start, len(result))\n",
      "C:\\Users\\prasa\\anaconda3\\lib\\site-packages\\sklearn\\metrics\\_classification.py:1318: UndefinedMetricWarning: Precision and F-score are ill-defined and being set to 0.0 in labels with no predicted samples. Use `zero_division` parameter to control this behavior.\n",
      "  _warn_prf(average, modifier, msg_start, len(result))\n",
      "C:\\Users\\prasa\\anaconda3\\lib\\site-packages\\sklearn\\metrics\\_classification.py:1318: UndefinedMetricWarning: Precision and F-score are ill-defined and being set to 0.0 in labels with no predicted samples. Use `zero_division` parameter to control this behavior.\n",
      "  _warn_prf(average, modifier, msg_start, len(result))\n"
     ]
    }
   ],
   "source": [
    "#Using confusion matrix to calculate the precision, recall, accuracy score and f1-score.\n",
    "#Calculate TP, TN, FP, FN.\n",
    "\n",
    "from sklearn.metrics import classification_report\n",
    "\n",
    "print(classification_report(y_test, y_pred))"
   ]
  },
  {
   "cell_type": "code",
   "execution_count": null,
   "id": "8986f010",
   "metadata": {},
   "outputs": [],
   "source": []
  },
  {
   "cell_type": "markdown",
   "id": "5286f28e",
   "metadata": {},
   "source": []
  }
 ],
 "metadata": {
  "kernelspec": {
   "display_name": "Python 3",
   "language": "python",
   "name": "python3"
  },
  "language_info": {
   "codemirror_mode": {
    "name": "ipython",
    "version": 3
   },
   "file_extension": ".py",
   "mimetype": "text/x-python",
   "name": "python",
   "nbconvert_exporter": "python",
   "pygments_lexer": "ipython3",
   "version": "3.9.13"
  }
 },
 "nbformat": 4,
 "nbformat_minor": 5
}
